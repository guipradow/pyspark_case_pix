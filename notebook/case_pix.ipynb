{
 "cells": [
  {
   "cell_type": "code",
   "execution_count": 2,
   "metadata": {},
   "outputs": [],
   "source": [
    "# Configuração do ambiente\n",
    "import os\n",
    "from dotenv import load_dotenv\n",
    "\n",
    "load_dotenv()\n",
    "os.environ['SPARK_VERSION'] = os.getenv('SPARK_VERSION')\n",
    "os.environ['PYSPARK_PYTHON'] = os.getenv('PYSPARK_PYTHON') \n",
    "os.environ['SPARK_HOME'] = os.getenv('SPARK_HOME')\n",
    "os.environ['HADOOP_HOME'] = os.getenv('HADOOP_HOME')\n",
    "os.environ['JAVA_HOME'] = os.getenv('JAVA_HOME')"
   ]
  },
  {
   "cell_type": "code",
   "execution_count": 4,
   "metadata": {},
   "outputs": [],
   "source": [
    "# Importação de bibliotecas\n",
    "from pyspark.sql import SparkSession\n",
    "from pyspark.sql.types import *\n",
    "from pyspark.sql.functions import *\n",
    "import pydeequ\n",
    "from pydeequ.analyzers import *"
   ]
  },
  {
   "cell_type": "code",
   "execution_count": 6,
   "metadata": {},
   "outputs": [],
   "source": [
    "# Configuração spark session \n",
    "spark = (\n",
    "    SparkSession.builder\n",
    "    .config('spark.ui.port', '4050')\n",
    "    .config('spark.jars.packages', pydeequ.deequ_maven_coord)\n",
    "    .config('spark.jars.excludes', pydeequ.f2j_maven_coord)\n",
    "    .appName('SparkSQL')\n",
    "    .getOrCreate()\n",
    ")"
   ]
  },
  {
   "cell_type": "code",
   "execution_count": 7,
   "metadata": {},
   "outputs": [
    {
     "name": "stdout",
     "output_type": "stream",
     "text": [
      "URL da Spark UI: http://DESKTOP-E8QPPRO:4050\n"
     ]
    }
   ],
   "source": [
    "# Configuração spark UI\n",
    "ui_url = spark.sparkContext.uiWebUrl\n",
    "print(\"URL da Spark UI:\", ui_url)"
   ]
  },
  {
   "cell_type": "code",
   "execution_count": null,
   "metadata": {},
   "outputs": [],
   "source": []
  }
 ],
 "metadata": {
  "kernelspec": {
   "display_name": ".venv",
   "language": "python",
   "name": "python3"
  },
  "language_info": {
   "codemirror_mode": {
    "name": "ipython",
    "version": 3
   },
   "file_extension": ".py",
   "mimetype": "text/x-python",
   "name": "python",
   "nbconvert_exporter": "python",
   "pygments_lexer": "ipython3",
   "version": "3.10.11"
  }
 },
 "nbformat": 4,
 "nbformat_minor": 2
}
