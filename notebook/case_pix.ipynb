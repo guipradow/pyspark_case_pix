{
 "cells": [
  {
   "cell_type": "code",
   "execution_count": 1,
   "metadata": {},
   "outputs": [],
   "source": [
    "# Configuração do ambiente\n",
    "import os\n",
    "from dotenv import load_dotenv\n",
    "\n",
    "load_dotenv()\n",
    "#os.environ['SPARK_VERSION'] = os.getenv('SPARK_VERSION')\n",
    "os.environ['PYSPARK_PYTHON'] = os.getenv('PYSPARK_PYTHON') \n",
    "os.environ['SPARK_HOME'] = os.getenv('SPARK_HOME')\n",
    "os.environ['HADOOP_HOME'] = os.getenv('HADOOP_HOME')\n",
    "os.environ['JAVA_HOME'] = os.getenv('JAVA_HOME')"
   ]
  },
  {
   "cell_type": "code",
   "execution_count": 2,
   "metadata": {},
   "outputs": [],
   "source": [
    "# Importação de bibliotecas\n",
    "from pyspark.sql import SparkSession\n",
    "from pyspark.sql.types import *\n",
    "from pyspark.sql.functions import *\n",
    "import pydeequ\n",
    "from pydeequ.analyzers import *"
   ]
  },
  {
   "cell_type": "code",
   "execution_count": 3,
   "metadata": {},
   "outputs": [],
   "source": [
    "# Configuração spark session \n",
    "spark = (\n",
    "    SparkSession.builder\n",
    "    .config('spark.ui.port', '4050')\n",
    "    .config('spark.jars.packages', pydeequ.deequ_maven_coord)\n",
    "    .config('spark.jars.excludes', pydeequ.f2j_maven_coord)\n",
    "    .appName('SparkSQL')\n",
    "    .getOrCreate()\n",
    ")"
   ]
  },
  {
   "cell_type": "code",
   "execution_count": 4,
   "metadata": {},
   "outputs": [
    {
     "name": "stdout",
     "output_type": "stream",
     "text": [
      "URL da Spark UI: http://DESKTOP-E8QPPRO:4050\n"
     ]
    }
   ],
   "source": [
    "# Configuração spark UI\n",
    "ui_url = spark.sparkContext.uiWebUrl\n",
    "print(\"URL da Spark UI:\", ui_url)"
   ]
  },
  {
   "cell_type": "code",
   "execution_count": 5,
   "metadata": {},
   "outputs": [
    {
     "name": "stdout",
     "output_type": "stream",
     "text": [
      "+------------+------------------+-------------------+---------+-------------+------+--------------------+------------------+-----------------+------------------+---------------+--------------+\n",
      "|id_transacao|             valor|   transaction_date|chave_pix|    categoria|fraude|   destinatario_nome|destinatario_banco|destinatario_tipo|    remetente_nome|remetente_banco|remetente_tipo|\n",
      "+------------+------------------+-------------------+---------+-------------+------+--------------------+------------------+-----------------+------------------+---------------+--------------+\n",
      "|        1000|            588.08|2021-07-16 05:00:55|aleatoria|       outros|     0|         Calebe Melo|             Caixa|               PF|Jonathan Gonsalves|            BTG|            PF|\n",
      "|        1001|           80682.5|2022-04-20 12:34:01|  celular|transferencia|     1|  Davi Lucas Pereira|             Caixa|               PJ|Jonathan Gonsalves|            BTG|            PF|\n",
      "|        1002|             549.9|2022-07-10 16:51:34|      cpf|        lazer|     0|      Sabrina Castro|            Nubank|               PF|Jonathan Gonsalves|            BTG|            PF|\n",
      "|        1003|             90.83|2022-10-20 10:57:36|aleatoria|   transporte|     0|Francisco da Conc...|            Nubank|               PJ|Jonathan Gonsalves|            BTG|            PF|\n",
      "|        1004|13272.619999999999|2021-04-06 20:26:51|    email|transferencia|     0|   Isabelly Ferreira|               BTG|               PJ|Jonathan Gonsalves|            BTG|            PF|\n",
      "|        1005|           9347.58|2022-07-24 15:22:27|aleatoria|        saude|     0|Srta. Maria da Cunha|              Itau|               PJ|Jonathan Gonsalves|            BTG|            PF|\n",
      "|        1006|           7836.76|2022-10-05 19:20:24|      cpf|    presentes|     0|     Catarina Duarte|                C6|               PF|Jonathan Gonsalves|            BTG|            PF|\n",
      "|        1007|           3883.62|2021-04-24 17:36:34|      cpf|    vestuario|     0|       Vitor Correia|                XP|               PJ|Jonathan Gonsalves|            BTG|            PF|\n",
      "|        1008|               4.0|2021-11-16 21:46:47|aleatoria|        saude|     0|         Theo Novaes|                C6|               PJ|Jonathan Gonsalves|            BTG|            PF|\n",
      "|        1009|              24.3|2021-07-26 02:08:49|      cpf|transferencia|     0|     Isabel Caldeira|                XP|               PJ|Jonathan Gonsalves|            BTG|            PF|\n",
      "|        1010|           87555.3|2022-03-14 15:34:45|aleatoria|transferencia|     1|Sr. Henrique Cardoso|            Nubank|               PF|Jonathan Gonsalves|            BTG|            PF|\n",
      "|        1011|          21345.91|2021-10-31 04:31:51|      cpf|transferencia|     1|   Felipe Cavalcanti|            Nubank|               PJ|Jonathan Gonsalves|            BTG|            PF|\n",
      "|        1012|          73605.85|2021-04-30 19:19:56|  celular|transferencia|     1|     Dr. Davi da Luz|          Bradesco|               PJ|Jonathan Gonsalves|            BTG|            PF|\n",
      "|        1013|             93.53|2023-01-13 13:39:57|      cpf|  alimentacao|     0|    Stephany Cardoso|                C6|               PJ|Jonathan Gonsalves|            BTG|            PF|\n",
      "|        1014|            564.11|2022-05-27 23:06:08|aleatoria|    vestuario|     0|   Sra. Julia Araujo|              Itau|               PJ|Jonathan Gonsalves|            BTG|            PF|\n",
      "|        1015|              3.59|2021-10-06 21:19:58|    email|        saude|     0|     Carolina Farias|            Nubank|               PJ|Jonathan Gonsalves|            BTG|            PF|\n",
      "|        1016|          19164.89|2022-03-06 17:59:43|    email|  alimentacao|     0|   Isabelly da Costa|            Nubank|               PJ|Jonathan Gonsalves|            BTG|            PF|\n",
      "|        1017|             68.45|2022-04-01 18:17:40|aleatoria|    vestuario|     0|Joao Miguel Silveira|                C6|               PJ|Jonathan Gonsalves|            BTG|            PF|\n",
      "|        1018|            941.25|2022-05-23 00:28:13|  celular|    vestuario|     0|       Matheus Moura|                C6|               PF|Jonathan Gonsalves|            BTG|            PF|\n",
      "|        1019|27009.910000000003|2021-08-04 23:22:37|    email|transferencia|     1| Gabrielly Goncalves|              Itau|               PJ|Jonathan Gonsalves|            BTG|            PF|\n",
      "+------------+------------------+-------------------+---------+-------------+------+--------------------+------------------+-----------------+------------------+---------------+--------------+\n",
      "only showing top 20 rows\n",
      "\n"
     ]
    }
   ],
   "source": [
    "# Ingestão dos dados\n",
    "PATH_JSON = '../data/case_final.json'\n",
    "\n",
    "# Configuração de schema\n",
    "schema_remetente_destinatario = StructType([\n",
    "    StructField('nome', StringType()),\n",
    "    StructField('banco', StringType()),\n",
    "    StructField('tipo', StringType()),\n",
    "])\n",
    "\n",
    "\n",
    "schema_base_pix = StructType([\n",
    "    StructField('id_transacao', IntegerType()),\n",
    "    StructField('valor', DoubleType()),\n",
    "    StructField('remetente', schema_remetente_destinatario),\n",
    "    StructField('destinatario', schema_remetente_destinatario),\n",
    "    StructField('transaction_date', TimestampType()),\n",
    "    StructField('chave_pix', StringType()),\n",
    "    StructField('categoria', StringType()),\n",
    "    StructField('fraude', IntegerType())\n",
    "])\n",
    "\n",
    "# Leitura\n",
    "df = spark.read.json(\n",
    "    PATH_JSON,\n",
    "    schema=schema_base_pix,\n",
    "    timestampFormat='yyyy-MM-dd HH:mm:ss'\n",
    ")\n",
    "\n",
    "# Transformação destinatário e remetente para formato colunar\n",
    "df = df.withColumn(\n",
    "    'destinatario_nome', col('destinatario').getField('nome')\n",
    ").withColumn(\n",
    "    'destinatario_banco', col('destinatario').getField('banco')\n",
    ").withColumn(\n",
    "    'destinatario_tipo', col('destinatario').getField('tipo')\n",
    ").withColumn(\n",
    "    'remetente_nome', col('remetente').getField('nome')\n",
    ").withColumn(\n",
    "    'remetente_banco', col('remetente').getField('banco')\n",
    ").withColumn(\n",
    "    'remetente_tipo', col('remetente').getField('tipo')\n",
    ").drop('remetente', 'destinatario')\n",
    "\n",
    "df.show()"
   ]
  },
  {
   "cell_type": "code",
   "execution_count": 6,
   "metadata": {},
   "outputs": [
    {
     "name": "stdout",
     "output_type": "stream",
     "text": [
      "+-------+-----------------+------------------+---------+-----------+------------------+-----------------+------------------+-----------------+------------------+---------------+--------------+\n",
      "|summary|     id_transacao|             valor|chave_pix|  categoria|            fraude|destinatario_nome|destinatario_banco|destinatario_tipo|    remetente_nome|remetente_banco|remetente_tipo|\n",
      "+-------+-----------------+------------------+---------+-----------+------------------+-----------------+------------------+-----------------+------------------+---------------+--------------+\n",
      "|  count|           100000|            100000|   100000|     100000|            100000|           100000|            100000|           100000|            100000|         100000|        100000|\n",
      "|   mean|          50999.5|10303.358732200059|     null|       null|           0.15367|             null|              null|             null|              null|           null|          null|\n",
      "| stddev|28867.65779668774| 20874.99768875586|     null|       null|0.3606339302787737|             null|              null|             null|              null|           null|          null|\n",
      "|    min|             1000|               0.0|aleatoria|alimentacao|                 0|   Agatha Almeida|               BTG|               PF|Jonathan Gonsalves|            BTG|            PF|\n",
      "|    max|           100999|          89996.33|    email|  vestuario|                 1|   Yuri das Neves|                XP|               PJ|Jonathan Gonsalves|            BTG|            PF|\n",
      "+-------+-----------------+------------------+---------+-----------+------------------+-----------------+------------------+-----------------+------------------+---------------+--------------+\n",
      "\n"
     ]
    }
   ],
   "source": [
    "df.describe().show()"
   ]
  },
  {
   "cell_type": "code",
   "execution_count": 7,
   "metadata": {},
   "outputs": [],
   "source": [
    "df.createOrReplaceTempView('transacoes_pix')"
   ]
  },
  {
   "cell_type": "code",
   "execution_count": 23,
   "metadata": {},
   "outputs": [
    {
     "name": "stdout",
     "output_type": "stream",
     "text": [
      "+------------------+--------------+\n",
      "|destinatario_banco|transferencias|\n",
      "+------------------+--------------+\n",
      "|                XP|         14401|\n",
      "|               BTG|         14390|\n",
      "|            Nubank|         14297|\n",
      "|              Itau|         14281|\n",
      "|             Caixa|         14240|\n",
      "|                C6|         14204|\n",
      "|          Bradesco|         14187|\n",
      "+------------------+--------------+\n",
      "\n"
     ]
    }
   ],
   "source": [
    "# Bancos com maior número de transferências\n",
    "spark.sql(\n",
    "    '''\n",
    "    SELECT \n",
    "        destinatario_banco, count(destinatario_banco) as transferencias\n",
    "    FROM\n",
    "        transacoes_pix\n",
    "    GROUP BY\n",
    "        destinatario_banco\n",
    "    ORDER BY\n",
    "        transferencias DESC\n",
    "    LIMIT 10\n",
    "    '''\n",
    ").show()"
   ]
  },
  {
   "cell_type": "code",
   "execution_count": 40,
   "metadata": {},
   "outputs": [
    {
     "name": "stdout",
     "output_type": "stream",
     "text": [
      "+-------+------------------+\n",
      "|periodo|       valor_medio|\n",
      "+-------+------------------+\n",
      "|2021-01| 9961.148306418205|\n",
      "|2021-02|10254.565595677386|\n",
      "|2021-03|10226.794436468064|\n",
      "|2021-04| 10174.00809899041|\n",
      "|2021-05|10009.756290959804|\n",
      "|2021-06|10185.070611137333|\n",
      "|2021-07|10171.928728059656|\n",
      "|2021-08| 11072.60574823528|\n",
      "|2021-09| 10280.04686523439|\n",
      "|2021-10|11021.997309872451|\n",
      "|2021-11|10227.241328395072|\n",
      "|2021-12|  10480.7907325142|\n",
      "|2022-01|10507.262373201262|\n",
      "|2022-02| 10123.09668741892|\n",
      "|2022-03| 10558.32449918284|\n",
      "|2022-04|10355.513566212305|\n",
      "|2022-05|10297.858686630503|\n",
      "|2022-06|10172.860004888767|\n",
      "|2022-07|10040.668731549818|\n",
      "|2022-08|10797.367360454096|\n",
      "|2022-09|10462.071680387418|\n",
      "|2022-10| 10280.48527731492|\n",
      "|2022-11| 9824.621844802343|\n",
      "|2022-12| 9742.439687203792|\n",
      "|2023-01|10002.365324144983|\n",
      "+-------+------------------+\n",
      "\n"
     ]
    }
   ],
   "source": [
    "# Média de valor das transferências por período\n",
    "spark.sql(\n",
    "    '''\n",
    "    SELECT\n",
    "        DATE_FORMAT(transaction_date, 'yyyy-MM') AS periodo,\n",
    "        AVG(valor) AS valor_medio\n",
    "    FROM\n",
    "        transacoes_pix\n",
    "    GROUP BY\n",
    "        periodo\n",
    "    ORDER BY\n",
    "        periodo ASC\n",
    "    '''\n",
    ").show(df.count())\n",
    "\n"
   ]
  }
 ],
 "metadata": {
  "kernelspec": {
   "display_name": ".venv",
   "language": "python",
   "name": "python3"
  },
  "language_info": {
   "codemirror_mode": {
    "name": "ipython",
    "version": 3
   },
   "file_extension": ".py",
   "mimetype": "text/x-python",
   "name": "python",
   "nbconvert_exporter": "python",
   "pygments_lexer": "ipython3",
   "version": "3.10.11"
  }
 },
 "nbformat": 4,
 "nbformat_minor": 2
}
